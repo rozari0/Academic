{
 "cells": [
  {
   "cell_type": "code",
   "execution_count": null,
   "id": "bc288e87",
   "metadata": {
    "vscode": {
     "languageId": "plaintext"
    }
   },
   "outputs": [],
   "source": [
    "def error_analysis(true_value, approx_value):\n",
    "    absolute_error=abs(true_value - approx_value)\n",
    "    relative_error = absolute_error / abs(true_value)\n",
    "    percentage_error = relative_error * 100\n",
    "    return absolute_error, relative_error, percentage_error\n",
    "\n",
    "true_val = 3.1416\n",
    "approx_val = 3.14\n",
    "\n",
    "ae,re,pe = error_analysis(true_val, approx_val)\n",
    "\n",
    "print(\"Absolute Error \\t:\",ae)\n",
    "print(\"Relative Error \\t:\", re)\n",
    "print(\"Percentage Error \\t:\", pe, \"%\")\n"
   ]
  }
 ],
 "metadata": {
  "language_info": {
   "name": "python"
  }
 },
 "nbformat": 4,
 "nbformat_minor": 5
}
