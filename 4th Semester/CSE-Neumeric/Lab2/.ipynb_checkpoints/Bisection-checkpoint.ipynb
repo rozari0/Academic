{
 "cells": [
  {
   "cell_type": "code",
   "execution_count": 8,
   "id": "c8c20840-5737-4654-bd4d-960e5a583171",
   "metadata": {},
   "outputs": [
    {
     "ename": "NameError",
     "evalue": "name 'root_bisect' is not defined",
     "output_type": "error",
     "traceback": [
      "\u001b[31m---------------------------------------------------------------------------\u001b[39m",
      "\u001b[31mNameError\u001b[39m                                 Traceback (most recent call last)",
      "\u001b[36mCell\u001b[39m\u001b[36m \u001b[39m\u001b[32mIn[8]\u001b[39m\u001b[32m, line 35\u001b[39m\n\u001b[32m     32\u001b[39m     \u001b[38;5;28;01mreturn\u001b[39;00m xr\n\u001b[32m     34\u001b[39m xl, xu = \u001b[32m1\u001b[39m,\u001b[32m3\u001b[39m\n\u001b[32m---> \u001b[39m\u001b[32m35\u001b[39m xr = \u001b[43mroot_bisect\u001b[49m(f, xl, xu)\n\u001b[32m     36\u001b[39m \u001b[38;5;28mprint\u001b[39m(xr)\n\u001b[32m     38\u001b[39m \u001b[38;5;28;01mif\u001b[39;00m xr:\n",
      "\u001b[31mNameError\u001b[39m: name 'root_bisect' is not defined"
     ]
    }
   ],
   "source": [
    "from math import fabs\n",
    "\n",
    "def f(x):\n",
    "    return x**3/2 - x**2\n",
    "\n",
    "def bisection(f, xl, xu, max_iter=500, eps=0.05):\n",
    "    if f(xl) * f(xu) > 0:\n",
    "        print(\"Wrong guess.\")\n",
    "        return None\n",
    "    if f(xl) * f(xu) == 0:\n",
    "        return xl if f(xl) == 0 else xu\n",
    "\n",
    "    iter = 1\n",
    "    xr_old = (xl + xu) / 2\n",
    "\n",
    "    while True:\n",
    "        if f(x1) * f(xr_old) < 0:\n",
    "            xu = xr_old\n",
    "        elif f(xu) * f(xr_old) < 0:\n",
    "            xl = xr_old\n",
    "        else:\n",
    "            return xr_old\n",
    "\n",
    "        xr_new = (xl + xu) / 2\n",
    "        ae = fabs(xr_new - xr_old)\n",
    "        xr_old = xr_new\n",
    "\n",
    "        iter = iter + 1\n",
    "        if ae<= eps or iter > max_iter:\n",
    "            break\n",
    "\n",
    "    return xr\n",
    "\n",
    "xl, xu = 1,3\n",
    "xr = bisection(f, xl, xu)\n",
    "print(xr)\n",
    "\n",
    "if xr:\n",
    "    print(f\"root is at {xr:.2f}\")\n",
    "    print(f\"f(xr) = {f(xr):.2f}\")"
   ]
  },
  {
   "cell_type": "code",
   "execution_count": null,
   "id": "384e1e56-4482-4039-91ac-1594d5dcf33a",
   "metadata": {},
   "outputs": [],
   "source": []
  }
 ],
 "metadata": {
  "kernelspec": {
   "display_name": "Python 3 (ipykernel)",
   "language": "python",
   "name": "python3"
  },
  "language_info": {
   "codemirror_mode": {
    "name": "ipython",
    "version": 3
   },
   "file_extension": ".py",
   "mimetype": "text/x-python",
   "name": "python",
   "nbconvert_exporter": "python",
   "pygments_lexer": "ipython3",
   "version": "3.13.7"
  }
 },
 "nbformat": 4,
 "nbformat_minor": 5
}
