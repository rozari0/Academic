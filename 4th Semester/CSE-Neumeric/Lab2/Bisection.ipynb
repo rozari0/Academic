{
 "cells": [
  {
   "cell_type": "code",
   "execution_count": 4,
   "id": "c8c20840-5737-4654-bd4d-960e5a583171",
   "metadata": {},
   "outputs": [
    {
     "name": "stdout",
     "output_type": "stream",
     "text": [
      "2.0\n",
      "root is at 2.00\n",
      "f(xr) = 0.00\n"
     ]
    }
   ],
   "source": [
    "from math import fabs\n",
    "\n",
    "\n",
    "def f(x):\n",
    "    return x**3 / 2 - x**2\n",
    "\n",
    "\n",
    "def bisection(f, xl, xu, max_iter=500, eps=0.05):\n",
    "    if f(xl) * f(xu) > 0:\n",
    "        print(\"Wrong guess.\")\n",
    "        return None\n",
    "    if f(xl) * f(xu) == 0:\n",
    "        return xl if f(xl) == 0 else xu\n",
    "\n",
    "    iter = 1\n",
    "    xr_old = (xl + xu) / 2\n",
    "\n",
    "    while True:\n",
    "        if f(xl) * f(xr_old) < 0:\n",
    "            xu = xr_old\n",
    "        elif f(xu) * f(xr_old) < 0:\n",
    "            xl = xr_old\n",
    "        else:\n",
    "            return xr_old\n",
    "\n",
    "        xr_new = (xl + xu) / 2\n",
    "        ae = fabs(xr_new - xr_old)\n",
    "        xr_old = xr_new\n",
    "\n",
    "        iter = iter + 1\n",
    "        if ae <= eps or iter > max_iter:\n",
    "            break\n",
    "\n",
    "    return xr\n",
    "    \n",
    "\n",
    "\n",
    "xl, xu = 1, 3\n",
    "xr = bisection(f, xl, xu)\n",
    "print(xr)\n",
    "\n",
    "if xr:\n",
    "    print(f\"root is at {xr:.2f}\")\n",
    "    print(f\"f(xr) = {f(xr):.2f}\")"
   ]
  },
  {
   "cell_type": "code",
   "execution_count": null,
   "id": "384e1e56-4482-4039-91ac-1594d5dcf33a",
   "metadata": {},
   "outputs": [],
   "source": []
  }
 ],
 "metadata": {
  "kernelspec": {
   "display_name": "Python 3",
   "language": "python",
   "name": "python3"
  },
  "language_info": {
   "codemirror_mode": {
    "name": "ipython",
    "version": 3
   },
   "file_extension": ".py",
   "mimetype": "text/x-python",
   "name": "python",
   "nbconvert_exporter": "python",
   "pygments_lexer": "ipython3",
   "version": "3.13.7"
  }
 },
 "nbformat": 4,
 "nbformat_minor": 5
}
