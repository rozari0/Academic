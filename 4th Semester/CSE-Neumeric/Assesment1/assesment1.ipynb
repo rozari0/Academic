{
 "cells": [
  {
   "cell_type": "code",
   "execution_count": 23,
   "id": "e0ddcaaa",
   "metadata": {},
   "outputs": [
    {
     "name": "stdout",
     "output_type": "stream",
     "text": [
      "78\n"
     ]
    }
   ],
   "source": [
    "number: int = int(input(\"Input N: \"))\n",
    "\n",
    "sum = 0\n",
    "for i in range(number + 1):\n",
    "    sum += i\n",
    "\n",
    "print(sum)"
   ]
  },
  {
   "cell_type": "code",
   "execution_count": null,
   "id": "65895667",
   "metadata": {},
   "outputs": [
    {
     "name": "stdout",
     "output_type": "stream",
     "text": [
      "2\n",
      "4\n",
      "6\n",
      "8\n",
      "10\n",
      "12\n",
      "14\n",
      "16\n",
      "18\n",
      "20\n"
     ]
    }
   ],
   "source": [
    "for i in range(2, 21, 2):\n",
    "    print(i)\n",
    "\n",
    "# for i in range(2,21):\n",
    "# if i % 2"
   ]
  },
  {
   "cell_type": "code",
   "execution_count": 7,
   "id": "e0474672",
   "metadata": {},
   "outputs": [
    {
     "name": "stdout",
     "output_type": "stream",
     "text": [
      "10\n",
      "9\n",
      "8\n",
      "7\n",
      "6\n",
      "5\n",
      "4\n",
      "3\n",
      "2\n",
      "1\n"
     ]
    }
   ],
   "source": [
    "for i in range(10, 0, -1):\n",
    "    print(i)"
   ]
  },
  {
   "cell_type": "code",
   "execution_count": 17,
   "id": "3d5b48b4",
   "metadata": {},
   "outputs": [
    {
     "name": "stdout",
     "output_type": "stream",
     "text": [
      "11 is Prime.\n"
     ]
    }
   ],
   "source": [
    "def check_prime(number: int) -> bool:\n",
    "    if number < 2 or (number % 2 == 0 and number != 2):\n",
    "        return False\n",
    "    for i in range(3, number // 2, 2):\n",
    "        if number % i == 0:\n",
    "            return False\n",
    "    return True\n",
    "\n",
    "\n",
    "number: int = int(input(\"Input a number: \"))\n",
    "\n",
    "if check_prime(number):\n",
    "    print(f\"{number} is Prime.\")\n",
    "else:\n",
    "    print(f\"{number} is not Prime.\")"
   ]
  },
  {
   "cell_type": "code",
   "execution_count": 22,
   "id": "6e67c923",
   "metadata": {},
   "outputs": [
    {
     "name": "stdout",
     "output_type": "stream",
     "text": [
      "Error: Invalid Operator\n"
     ]
    }
   ],
   "source": [
    "def calculate(num1: int, num2: int, operator: str) -> float:\n",
    "    if operator == \"+\":\n",
    "        return num1 + num2\n",
    "    elif operator == \"-\":\n",
    "        return num1 - num2\n",
    "    elif operator == \"*\":\n",
    "        return num1 * num2\n",
    "    elif operator == \"/\":\n",
    "        return num1 / num2\n",
    "    else:\n",
    "        raise ValueError(\"Invalid Operator\")\n",
    "\n",
    "\n",
    "num1: int = int(input(\"Input num1: \"))\n",
    "num2: int = int(input(\"Input num2: \"))\n",
    "operator = input(\"Input operator (+,-,*,/)\")\n",
    "try:\n",
    "    answer = calculate(num1, num2, operator)\n",
    "    print(f\"{num1} {operator} {num2} = {answer}\")\n",
    "except Exception as e:\n",
    "    print(f\"Error: {e}\")"
   ]
  }
 ],
 "metadata": {
  "kernelspec": {
   "display_name": "Python 3",
   "language": "python",
   "name": "python3"
  },
  "language_info": {
   "codemirror_mode": {
    "name": "ipython",
    "version": 3
   },
   "file_extension": ".py",
   "mimetype": "text/x-python",
   "name": "python",
   "nbconvert_exporter": "python",
   "pygments_lexer": "ipython3",
   "version": "3.13.5"
  }
 },
 "nbformat": 4,
 "nbformat_minor": 5
}
