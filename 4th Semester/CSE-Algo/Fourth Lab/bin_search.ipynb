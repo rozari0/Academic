{
 "cells": [
  {
   "cell_type": "code",
   "execution_count": 4,
   "id": "4f8270a6",
   "metadata": {},
   "outputs": [
    {
     "name": "stdout",
     "output_type": "stream",
     "text": [
      "2\n"
     ]
    }
   ],
   "source": [
    "array = input().split()\n",
    "# array = ['0', '0', '0', '0','0','0','0', '1', '1', '1']\n",
    "array = list(map(int, array))\n",
    "# print(array)\n",
    "\n",
    "length = len(array)\n",
    "left = 0\n",
    "right = length - 1\n",
    "mid = left + (right - left) // 2\n",
    "\n",
    "if array[0] != 0 or array[-1] != 1:\n",
    "    print(\"Array must start with 0 and end with 1.\")\n",
    "    raise SystemExit\n",
    "\n",
    "while left <= right:\n",
    "    if array[mid] == 0:\n",
    "        if array[mid] != array[mid + 1]:\n",
    "            print(mid + 1)\n",
    "            break\n",
    "        else:\n",
    "            left = mid\n",
    "    elif array[mid] == 1:\n",
    "        if array[mid] != array[mid - 1]:\n",
    "            print(mid)\n",
    "            break\n",
    "        else:\n",
    "            right = mid\n",
    "    mid = left + (right - left) // 2"
   ]
  }
 ],
 "metadata": {
  "kernelspec": {
   "display_name": "Python 3",
   "language": "python",
   "name": "python3"
  },
  "language_info": {
   "codemirror_mode": {
    "name": "ipython",
    "version": 3
   },
   "file_extension": ".py",
   "mimetype": "text/x-python",
   "name": "python",
   "nbconvert_exporter": "python",
   "pygments_lexer": "ipython3",
   "version": "3.13.5"
  }
 },
 "nbformat": 4,
 "nbformat_minor": 5
}
