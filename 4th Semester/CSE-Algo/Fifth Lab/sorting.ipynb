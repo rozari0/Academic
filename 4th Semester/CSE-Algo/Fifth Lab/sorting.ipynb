{
 "cells": [
  {
   "cell_type": "code",
   "execution_count": 11,
   "id": "57165dd2",
   "metadata": {},
   "outputs": [],
   "source": [
    "from typing import List\n",
    "\n",
    "\n",
    "def bubble_sort(array: List[int]):\n",
    "    i = 0\n",
    "    length = len(array)\n",
    "    is_swapped = True\n",
    "    swapped, comperison = 0, 0\n",
    "\n",
    "    while i < length - 1 and is_swapped:\n",
    "        is_swapped = False\n",
    "        j = 0\n",
    "        while j < length - i - 1:\n",
    "            if array[j] > array[j + 1]:\n",
    "                array[j], array[j + 1] = array[j + 1], array[j]\n",
    "                swapped += 1\n",
    "                is_swapped = True\n",
    "            j += 1\n",
    "            comperison += 1\n",
    "\n",
    "        i += 1\n",
    "\n",
    "    return array, comperison, swapped"
   ]
  },
  {
   "cell_type": "code",
   "execution_count": 20,
   "id": "4845075a",
   "metadata": {},
   "outputs": [],
   "source": [
    "def insertion_sort(array: List[int]):\n",
    "    i = 1\n",
    "    key = array[i]\n",
    "    length = len(array)\n",
    "    swapped, comperison = 0, 0\n",
    "    while i < length:\n",
    "        j = i - 1\n",
    "\n",
    "        while j >= 0:\n",
    "            if array[j] > key:\n",
    "                array[j], array[j + 1] = array[j + 1], array[j]\n",
    "                swapped += 1\n",
    "            j -= 1\n",
    "            comperison +=1\n",
    "        i += 1\n",
    "\n",
    "    return array, comperison, swapped"
   ]
  },
  {
   "cell_type": "code",
   "execution_count": null,
   "id": "b535981a",
   "metadata": {},
   "outputs": [
    {
     "data": {
      "text/plain": [
       "([9, 8, 7, 5, 6, 4, 3, 2, 1], 28, 8)"
      ]
     },
     "execution_count": 29,
     "metadata": {},
     "output_type": "execute_result"
    }
   ],
   "source": [
    "def selection_sort(array: List[int]):\n",
    "    i = 0\n",
    "    length = len(array)\n",
    "    swapped, comparison = 0, 0\n",
    "    \n",
    "    while i < length - 1:\n",
    "        min = i\n",
    "        j = i + 1\n",
    "        while j < length - 1:\n",
    "            if array[min] > array[j]:\n",
    "                min = j\n",
    "            j+=1\n",
    "            comparison +=1\n",
    "        array[j], array[min] = array[min], array[j]\n",
    "        swapped+=1\n",
    "        i+=1\n",
    "    \n",
    "    return array, comparison, swapped"
   ]
  },
  {
   "cell_type": "code",
   "execution_count": 30,
   "id": "4c79c996",
   "metadata": {},
   "outputs": [
    {
     "name": "stdout",
     "output_type": "stream",
     "text": [
      "([1, 2, 3, 4, 5, 6, 7, 8, 9], 36, 35)\n",
      "([8, 7, 5, 6, 4, 3, 2, 1, 9], 36, 8)\n",
      "([9, 8, 7, 5, 6, 4, 3, 2, 1], 28, 8)\n"
     ]
    }
   ],
   "source": [
    "print(bubble_sort([9, 8, 7, 5, 6, 4, 3, 2, 1]))\n",
    "print(insertion_sort([9, 8, 7, 5, 6, 4, 3, 2, 1]))\n",
    "print(selection_sort([9, 8, 7, 5, 6, 4, 3, 2, 1]))"
   ]
  },
  {
   "cell_type": "code",
   "execution_count": null,
   "id": "d7780474",
   "metadata": {},
   "outputs": [],
   "source": [
    "info = [\n",
    "    {\"swap\": int, \"comparison\": int, \"name\": \"bubble sort\"},\n",
    "    {\"swap\": int, \"comparison\": int, \"name\": \"other sort\"},\n",
    "    {\"swap\": int, \"comparison\": int, \"name\": \"Another sort\"},\n",
    "]"
   ]
  }
 ],
 "metadata": {
  "kernelspec": {
   "display_name": "Python 3",
   "language": "python",
   "name": "python3"
  },
  "language_info": {
   "codemirror_mode": {
    "name": "ipython",
    "version": 3
   },
   "file_extension": ".py",
   "mimetype": "text/x-python",
   "name": "python",
   "nbconvert_exporter": "python",
   "pygments_lexer": "ipython3",
   "version": "3.13.7"
  }
 },
 "nbformat": 4,
 "nbformat_minor": 5
}
