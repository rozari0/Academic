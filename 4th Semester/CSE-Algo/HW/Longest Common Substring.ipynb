{
 "cells": [
  {
   "cell_type": "code",
   "execution_count": 2,
   "id": "a9d49fd4-ef79-454e-93e3-2244f803801b",
   "metadata": {},
   "outputs": [],
   "source": [
    "from pprint import pprint"
   ]
  },
  {
   "cell_type": "code",
   "execution_count": 3,
   "id": "dba696be-2999-437e-8b5d-59182b150b3f",
   "metadata": {},
   "outputs": [
    {
     "name": "stdout",
     "output_type": "stream",
     "text": [
      "[[2, 2, 2, 2, 1, 0, 0],\n",
      " [2, 2, 2, 2, 1, 0, 0],\n",
      " [2, 2, 1, 1, 1, 0, 0],\n",
      " [1, 1, 1, 0, 0, 0, 0],\n",
      " [0, 0, 0, 0, 0, 0, 0]]\n",
      "2\n"
     ]
    }
   ],
   "source": [
    "def lcs(text1: str, text2: str)->int:\n",
    "    matrix = [[0 for _ in range(len(text2)+1)] for _ in range((len(text1))+1)]\n",
    "\n",
    "    for i in range(len(text1)-1, -1, -1):\n",
    "        for j in range(len(text2)-1,-1,-1):\n",
    "            if text1[i] == text2[j]:\n",
    "                matrix[i][j] = matrix[i+1][j+1] + 1\n",
    "            else:\n",
    "                matrix[i][j] = max(matrix[i+1][j], matrix[i][j+1])\n",
    "    pprint(matrix)\n",
    "    return matrix[0][0]\n",
    "\n",
    "answer = lcs(\"kind\", \"ending\")\n",
    "print(answer)"
   ]
  },
  {
   "cell_type": "code",
   "execution_count": null,
   "id": "4caa03bb-6623-4ac3-b35f-11d9796ee307",
   "metadata": {},
   "outputs": [],
   "source": []
  }
 ],
 "metadata": {
  "kernelspec": {
   "display_name": "Python 3 (ipykernel)",
   "language": "python",
   "name": "python3"
  },
  "language_info": {
   "codemirror_mode": {
    "name": "ipython",
    "version": 3
   },
   "file_extension": ".py",
   "mimetype": "text/x-python",
   "name": "python",
   "nbconvert_exporter": "python",
   "pygments_lexer": "ipython3",
   "version": "3.13.5"
  }
 },
 "nbformat": 4,
 "nbformat_minor": 5
}
